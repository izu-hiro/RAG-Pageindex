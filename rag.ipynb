{
 "cells": [
  {
   "cell_type": "markdown",
   "metadata": {
    "id": "view-in-github",
    "colab_type": "text"
   },
   "source": [
    "<a href=\"https://colab.research.google.com/github/izu-hiro/RAG-Pageindex/blob/main/prototipo_rag/quary.teste.ipynb\" target=\"_parent\"><img src=\"https://colab.research.google.com/assets/colab-badge.svg\" alt=\"Open In Colab\"/></a>"
   ],
   "id": "353e069ded4a0ab2"
  },
  {
   "metadata": {
    "id": "f8897a5bb9837baa"
   },
   "cell_type": "markdown",
   "source": [
    "Definindo a LLM"
   ],
   "id": "f8897a5bb9837baa"
  },
  {
   "metadata": {
    "collapsed": true,
    "ExecuteTime": {
     "end_time": "2025-09-28T19:42:15.940173Z",
     "start_time": "2025-09-28T19:42:13.362221Z"
    },
    "colab": {
     "base_uri": "https://localhost:8080/"
    },
    "id": "b58922740f50bf25",
    "outputId": "ed47b3dd-fd88-4b83-afe0-37e29d83b68e"
   },
   "cell_type": "code",
   "source": [
    "from openai import AsyncOpenAI\n",
    "from getpass import getpass\n",
    "\n",
    "openrouterKey = getpass(\"Insira a sua chave API: \")\n",
    "\n",
    "async def call_llm(prompt, model=\"deepseek/deepseek-chat-v3.1:free\", temperature=0):\n",
    "    client = AsyncOpenAI(base_url=\"https://openrouter.ai/api/v1\", api_key=openrouterKey)\n",
    "    response = await client.chat.completions.create(\n",
    "        model=model,\n",
    "        messages=[{\"role\": \"user\", \"content\": prompt}],\n",
    "        temperature=temperature\n",
    "    )\n",
    "    return response.choices[0].message.content.strip()"
   ],
   "id": "b58922740f50bf25",
   "outputs": [
    {
     "name": "stdout",
     "output_type": "stream",
     "text": [
      "Insira a sua chave API: ··········\n"
     ]
    }
   ],
   "execution_count": 7
  },
  {
   "metadata": {
    "id": "4460f387fe7747cb"
   },
   "cell_type": "markdown",
   "source": [
    "Contexto utilizado na geração da resposta"
   ],
   "id": "4460f387fe7747cb"
  },
  {
   "metadata": {
    "id": "4348da21357ed3fb",
    "ExecuteTime": {
     "end_time": "2025-10-07T23:32:21.861050Z",
     "start_time": "2025-10-07T23:32:21.392982Z"
    }
   },
   "cell_type": "code",
   "source": [
    "from pypdf import PdfWriter\n",
    "from os import listdir\n",
    "from os.path import isfile, join\n",
    "\n",
    "documentos = ['documentos/'+f for f in listdir('documentos') if isfile(join('documentos', f))]\n",
    "\n",
    "merger = PdfWriter()\n",
    "for documento in documentos:\n",
    "    merger.append(documento)\n",
    "merger.write(\"documentoUnido.pdf\")\n",
    "merger.close()\n",
    "\n",
    "relevant_content = '''Manual Explicativo do Processo Seletivo Vestibular – 1º Semestre de 2026\n",
    "1. Definição do Vestibular\n",
    "\n",
    "O Vestibular das Faculdades de Tecnologia do Estado de São Paulo (Fatecs) é o processo seletivo utilizado para ingresso nos cursos superiores de tecnologia oferecidos pelas unidades do CEETEPS. As provas serão realizadas exclusivamente de forma presencial.\n",
    "\n",
    "2. Público-Alvo\n",
    "\n",
    "O Processo Seletivo Vestibular, referente ao 1º semestre de 2026, destina-se a candidatos que tenham concluído o Ensino Médio até a data da matrícula, conforme os seguintes critérios:\n",
    "\n",
    "Ensino Médio regular concluído em 2025 ou anteriormente: é necessário apresentar Histórico Escolar com Certificado de Conclusão.\n",
    "\n",
    "Ensino Médio concluído por meio de exames de certificação (ENEM, ENCCEJA e afins): é exigida a certificação oficial expedida por órgão competente.\n",
    "\n",
    "Educação de Jovens e Adultos (EJA): para os candidatos que concluírem em 2025, é obrigatória a apresentação do Histórico Escolar com Certificado de Conclusão.\n",
    "\n",
    "3. Requisitos de Idade\n",
    "\n",
    "Apenas para o Curso Superior de Tecnologia em Radiologia há exigência etária. O estudante deverá ter no mínimo 18 anos para cursar as disciplinas práticas de laboratório, a partir do 4º semestre, em conformidade com o Parecer CNE/CEB 19/2007 e demais legislações vigentes.\n",
    "\n",
    "4. Cronograma do Processo Seletivo\n",
    "\n",
    "O cronograma oficial do Vestibular Fatec – 1º Semestre de 2026 é o seguinte:\n",
    "\n",
    "15/09/2025 a 07/11/2025 (até às 15h): Período de inscrições no site vestibular.fatec.sp.gov.br\n",
    ".\n",
    "\n",
    "09/12/2025, a partir das 15h: Divulgação dos locais de prova.\n",
    "\n",
    "14/12/2025, às 13h: Realização do exame.\n",
    "\n",
    "17/12/2025, a partir das 15h: Divulgação do gabarito oficial.\n",
    "\n",
    "19/01/2026, a partir das 15h: Publicação da lista de classificação geral e da 1ª chamada.\n",
    "\n",
    "20 a 22/01/2026: Matrícula da 1ª chamada (envio da documentação pelo sistema remoto).\n",
    "\n",
    "26/01/2026, a partir das 15h: Divulgação da 2ª chamada.\n",
    "\n",
    "27 a 29/01/2026: Matrícula da 2ª chamada (envio da documentação pelo sistema remoto).\n",
    "\n",
    "Cabe exclusivamente ao candidato acompanhar os prazos e publicações referentes a inscrições, provas, gabaritos, classificações e matrículas. Não serão aceitas documentações enviadas fora dos períodos estipulados.\n",
    "\n",
    "5. Organização do Processo\n",
    "\n",
    "O Vestibular Fatec 1SEM26 é organizado pela Fundação de Apoio à Tecnologia (FAT), entidade responsável pela operacionalização de mais de 30 edições anteriores. A FAT utiliza sistema informatizado proprietário que assegura segurança, integridade, escalabilidade e transparência durante todas as etapas.\n",
    "\n",
    "6. Inscrições\n",
    "\n",
    "As inscrições deverão ser realizadas entre 15/09/2025 e 07/11/2025 (até às 15h), exclusivamente pelo site oficial vestibular.fatec.sp.gov.br\n",
    ". O candidato deverá acessar a Área do Candidato utilizando seu CPF e a senha cadastrada.\n",
    "\n",
    "O formulário eletrônico de inscrição deverá ser preenchido integralmente, contemplando dados pessoais, questionário socioeconômico, indicação de cursos, opção pelo sistema de pontuação acrescida (quando aplicável), além da possibilidade de inclusão do número de inscrição do ENEM (anos 2023, 2024 ou 2025).\n",
    "\n",
    "Ao final do preenchimento, o candidato deverá emitir o boleto e efetuar o pagamento da taxa de inscrição no valor de R$ 47,00, dentro do prazo estipulado, seja em agência bancária, internet banking ou via cartão de crédito (ferramenta Getnet).\n",
    "\n",
    "O não pagamento dentro do prazo resultará na não efetivação da inscrição. O valor pago não será devolvido em nenhuma hipótese, inclusive em caso de desistência ou duplicidade de inscrição.\n",
    "\n",
    "Candidatos que não possuam CPF deverão obtê-lo junto à Receita Federal, pois este é requisito obrigatório para inscrição.\n",
    "\n",
    "Será permitida a realização de até três inscrições por candidato, mediante pagamento da taxa correspondente a cada inscrição.\n",
    "\n",
    "7. Isenção e Redução da Taxa\n",
    "\n",
    "Os candidatos que solicitarem isenção ou redução da taxa deverão verificar o resultado no site oficial a partir de 30/09/2025. As situações possíveis são:\n",
    "\n",
    "Isenção integral aprovada: inscrição automaticamente confirmada.\n",
    "\n",
    "Redução de 50% aprovada: emissão de boleto no valor de R$ 23,50 e pagamento até 07/11/2025.\n",
    "\n",
    "Solicitação recusada: pagamento do valor integral (R$ 47,00).\n",
    "\n",
    "O benefício será válido para apenas uma inscrição. Caso o candidato deseje se inscrever em mais de um curso, deverá pagar integralmente pelas demais inscrições.\n",
    "\n",
    "8. Pontuação Acrescida\n",
    "\n",
    "Conforme Decreto Estadual nº 49.602/2005 e Deliberação CEETEPS nº 08/2007, será atribuída pontuação adicional à nota final obtida no processo seletivo, nos seguintes termos:\n",
    "\n",
    "3% para candidatos que se declararem afrodescendentes;\n",
    "\n",
    "10% para candidatos que tenham cursado integralmente o Ensino Médio em escolas públicas brasileiras;\n",
    "\n",
    "13% para candidatos que atendam cumulativamente aos dois critérios anteriores.\n",
    "\n",
    "A comprovação da escolaridade pública deverá ser feita no ato da matrícula, por meio de histórico escolar ou declaração em papel timbrado da instituição. Informações falsas acarretarão cancelamento da matrícula, sem possibilidade de reclassificação.\n",
    "\n",
    "9. Condições Especiais\n",
    "\n",
    "Candidatos com deficiência participarão do processo em igualdade de condições com os demais, sem previsão de cotas específicas.'''"
   ],
   "id": "4348da21357ed3fb",
   "outputs": [],
   "execution_count": 11
  },
  {
   "metadata": {
    "id": "1970d0b0de62b5db"
   },
   "cell_type": "markdown",
   "source": [
    "Geração da resposta"
   ],
   "id": "1970d0b0de62b5db"
  },
  {
   "metadata": {
    "ExecuteTime": {
     "end_time": "2025-09-28T19:46:01.203551Z",
     "start_time": "2025-09-28T19:45:11.401294Z"
    },
    "colab": {
     "base_uri": "https://localhost:8080/"
    },
    "id": "c172d04976b2ed53",
    "outputId": "25e4848c-0556-4fdb-c807-2c39d27ceeee"
   },
   "cell_type": "code",
   "source": [
    "perguntas = [\n",
    "    \"Qual é a idade mínima para poder ingressar na fatec?\",\n",
    "    \"Quanto custa pra estudar numa instituicao do centro paula souza?\",\n",
    "    \"Como q funciona o processo de inscrição no vestibulinho da etec?\",\n",
    "    \"Fatec tem programa de mestrado? se sim, qnd começam as aulas do mestrado de 2025?\"\n",
    "]\n",
    "\n",
    "for query in perguntas:\n",
    "    answer_prompt = f\"\"\"\n",
    "Responda à pergunta com base apenas no contexto fornecido abaixo.\n",
    "\n",
    "- Interprete a pergunta em **português**, mesmo que ela contenha:\n",
    "  - Gírias ou linguagem informal\n",
    "  - Erros de digitação ou ortografia\n",
    "  - Abreviações ou escrita de forma não convencional\n",
    "  - Estruturas de frase incompletas ou confusas\n",
    "- Se houver ambiguidade, faça a melhor interpretação possível considerando o contexto.\n",
    "- Mantenha a resposta **clara, completa e em português correto**.\n",
    "- Não invente informações que não estejam no contexto.\n",
    "- Use exemplos ou explicações adicionais, se necessário, para garantir que a resposta seja compreendida.\n",
    "\n",
    "\n",
    "    Pergunta do usuário: {query}\n",
    "    Contexto: {relevant_content}\n",
    "\n",
    "    Resposta:\n",
    "    \"\"\"\n",
    "\n",
    "    answer = await call_llm(answer_prompt)\n",
    "\n",
    "    print(\"Pergunta original:\\n\", query)\n",
    "    print(\"\\nResposta gerada (PT):\\n\", answer)\n"
   ],
   "id": "c172d04976b2ed53",
   "outputs": [
    {
     "output_type": "stream",
     "name": "stdout",
     "text": [
      "Pergunta original:\n",
      " Qual é a idade mínima para poder ingressar na fatec?\n",
      "\n",
      "Resposta gerada (PT):\n",
      " Com base no contexto fornecido, **não há uma idade mínima geral para ingressar na Fatec**.\n",
      "\n",
      "A exigência de idade é uma exceção e aplica-se apenas a um curso específico:\n",
      "*   **Para o curso de Tecnologia em Radiologia**, o candidato deve ter no mínimo 18 anos de idade. Esta exigência é necessária para cursar as disciplinas práticas de laboratório a partir do 4º semestre.\n",
      "\n",
      "Para todos os demais cursos, o requisito principal é acadêmico: o candidato deve ter concluído o Ensino Médio até a data da matrícula.\n",
      "Pergunta original:\n",
      " Quanto custa pra estudar numa instituicao do centro paula souza?\n",
      "\n",
      "Resposta gerada (PT):\n",
      " Com base no contexto fornecido, o custo para se inscrever no processo seletivo (Vestibular) das Fatecs do Centro Paula Souza é de **R$ 47,00**.\n",
      "\n",
      "Esta é a taxa de inscrição para participar do vestibular do 1º semestre de 2026. O contexto não menciona o valor da mensalidade para estudar na instituição, pois as Fatecs são faculdades públicas de tecnologia. Sendo públicas, **não há custo com mensalidades** para os cursos.\n",
      "\n",
      "**Resumo:**\n",
      "*   **Taxa de Inscrição do Vestibular:** R$ 47,00.\n",
      "*   **Mensalidade:** Não há, pois as Fatecs são instituições públicas e gratuitas.\n",
      "Pergunta original:\n",
      " Como q funciona o processo de inscrição no vestibulinho da etec?\n",
      "\n",
      "Resposta gerada (PT):\n",
      " Com base no contexto fornecido, o processo de inscrição para o Vestibular das Fatecs (comumente chamado de \"vestibulinho da Etec\" para os cursos técnicos, mas aqui referente ao vestibular para os cursos superiores de tecnologia) funciona da seguinte maneira:\n",
      "\n",
      "**1. Período de Inscrição:**\n",
      "As inscrições devem ser realizadas exclusivamente pelo site oficial `vestibular.fatec.sp.gov.br` no período de **15 de setembro de 2025 a 7 de novembro de 2025 (até às 15h)**.\n",
      "\n",
      "**2. Acesso ao Sistema:**\n",
      "O candidato deve acessar a \"Área do Candidato\" no site usando seu **CPF** e a **senha cadastrada**. Ter CPF é um requisito obrigatório.\n",
      "\n",
      "**3. Preenchimento do Formulário:**\n",
      "O formulário eletrônico de inscrição deve ser preenchido integralmente com:\n",
      "*   Dados pessoais.\n",
      "*   Questionário socioeconômico.\n",
      "*   Indicação dos cursos desejados.\n",
      "*   Opção pelo sistema de pontuação acrescida (se aplicável).\n",
      "*   Possibilidade de incluir o número de inscrição do ENEM (dos anos 2023, 2024 ou 2025).\n",
      "\n",
      "**4. Pagamento da Taxa:**\n",
      "Ao final do preenchimento, é necessário:\n",
      "*   Emitir o boleto bancário.\n",
      "*   Efetuar o pagamento da **taxa de inscrição no valor de R$ 47,00** dentro do prazo estipulado. O pagamento pode ser feito em agência bancária, internet banking ou via cartão de crédito (pela ferramenta Getnet).\n",
      "\n",
      "**Importante:**\n",
      "*   A inscrição só é efetivada após o pagamento da taxa dentro do prazo.\n",
      "*   O valor **não será devolvido** em caso de desistência ou duplicidade de inscrição.\n",
      "*   É permitido fazer **até três inscrições** por candidato, mediante o pagamento da taxa para cada uma.\n",
      "\n",
      "**5. Isenção/Redução de Taxa:**\n",
      "Candidatos que solicitaram isenção ou redução da taxa devem verificar o resultado no site oficial a partir de **30 de setembro de 2025**.\n",
      "*   **Isenção aprovada:** inscrição confirmada automaticamente.\n",
      "*   **Redução de 50% aprovada:** deve-se emitir um boleto no valor de R$ 23,50 e pagá-lo até o prazo final.\n",
      "*   **Solicitação recusada:** deve-se pagar o valor integral de R$ 47,00.\n",
      "*   O benefício é válido apenas para uma inscrição.\n",
      "Pergunta original:\n",
      " Fatec tem programa de mestrado? se sim, qnd começam as aulas do mestrado de 2025?\n",
      "\n",
      "Resposta gerada (PT):\n",
      " Com base no contexto fornecido, que é o Manual Explicativo do Processo Seletivo Vestibular para o 1º Semestre de 2026, **não há qualquer menção a programas de mestrado**.\n",
      "\n",
      "O documento trata exclusivamente do processo seletivo para **cursos superiores de tecnologia** (graduação tecnológica). Portanto, **não é possível confirmar se a Fatec oferece programa de mestrado**, pois essa informação não está contida no contexto fornecido.\n",
      "\n",
      "Consequentemente, também não é possível informar quando começariam as aulas de um mestrado em 2025, já que o contexto não se refere a esse nível de ensino.\n"
     ]
    }
   ],
   "execution_count": 9
  }
 ],
 "metadata": {
  "kernelspec": {
   "display_name": "Python 3",
   "language": "python",
   "name": "python3"
  },
  "language_info": {
   "codemirror_mode": {
    "name": "ipython",
    "version": 2
   },
   "file_extension": ".py",
   "mimetype": "text/x-python",
   "name": "python",
   "nbconvert_exporter": "python",
   "pygments_lexer": "ipython2",
   "version": "2.7.6"
  },
  "colab": {
   "provenance": [],
   "include_colab_link": true
  }
 },
 "nbformat": 4,
 "nbformat_minor": 5
}
